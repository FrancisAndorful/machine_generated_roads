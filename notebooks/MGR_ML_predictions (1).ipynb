{
  "cells": [
    {
      "cell_type": "code",
      "execution_count": null,
      "metadata": {
        "colab": {
          "base_uri": "https://localhost:8080/"
        },
        "id": "FB0G_GVDhwP1",
        "outputId": "a714dafd-8add-4700-ee79-2e4b5695f540"
      },
      "outputs": [
        {
          "output_type": "stream",
          "name": "stdout",
          "text": [
            "Mounted at /content/drive\n"
          ]
        }
      ],
      "source": [
        "from google.colab import drive\n",
        "drive.mount('/content/drive')"
      ]
    },
    {
      "cell_type": "markdown",
      "metadata": {
        "id": "NFpr0rdciYkn"
      },
      "source": [
        "# Random Forest Classification"
      ]
    },
    {
      "cell_type": "code",
      "execution_count": null,
      "metadata": {
        "id": "UTkb95RMhypT"
      },
      "outputs": [],
      "source": [
        "# Loading Libraries\n",
        "import pandas as pd\n",
        "import numpy as np\n",
        "import matplotlib.pyplot as plt\n",
        "from sklearn.preprocessing import KBinsDiscretizer\n",
        "from sklearn.preprocessing import LabelEncoder, OneHotEncoder\n",
        "from sklearn.impute import SimpleImputer\n",
        "from sklearn.metrics import classification_report"
      ]
    },
    {
      "cell_type": "code",
      "execution_count": null,
      "metadata": {
        "id": "l4dGkd79j9Rp"
      },
      "outputs": [],
      "source": [
        "def assign_true_label(row):\n",
        "  if 'MYS_mgr' in row['label']:\n",
        "    return 1\n",
        "  elif 'MYS_hgr' in row['label']:\n",
        "    return 0\n",
        "  else:\n",
        "    return 999\n",
        "\n",
        "\n",
        "\n",
        "\n",
        "def avg_segment_node_distance(gdf):\n",
        "    \"\"\"\n",
        "    Calculate the average segment length per node for a GeoDataFrame of road segments.\n",
        "\n",
        "    Parameters:\n",
        "\n",
        "    - gdf: GeoDataFrame\n",
        "\n",
        "        GeoDataFrame containing road segment geometries.\n",
        "\n",
        "    Returns:\n",
        "\n",
        "    - float\n",
        "\n",
        "        Average segment length per node.\n",
        "    \"\"\"\n",
        "    # Calculate the length of each road segment\n",
        "    gdf['segment_length'] = round((gdf['road_length'])/1000,2)\n",
        "\n",
        "    # Calculate the number of nodes for each road segment\n",
        "    gdf['num_nodes'] = gdf['n_vertices']\n",
        "    # Calculate the average segment length per node\n",
        "    gdf['avg_segment_node_distance'] = gdf['segment_length'] / (gdf['num_nodes'] - 1)\n",
        "\n",
        "    # Calculate the overall average\n",
        "    overall_average = gdf['avg_segment_node_distance'].mean()\n",
        "\n",
        "    return overall_average"
      ]
    },
    {
      "cell_type": "code",
      "execution_count": null,
      "metadata": {
        "colab": {
          "base_uri": "https://localhost:8080/"
        },
        "id": "tdD1k-ZhiKb8",
        "outputId": "82a57c8b-5f18-4dc9-8cdb-2fb30b164d61"
      },
      "outputs": [
        {
          "output_type": "stream",
          "name": "stdout",
          "text": [
            "Index(['std_distance', 'node_density'], dtype='object')\n"
          ]
        }
      ],
      "source": [
        "# Data = pd.read_csv(\"/content/drive/MyDrive/Colab Notebooks/OSM_Changeset/Ref_dataset_Malashyia2.csv\")\n",
        "Data = pd.read_csv(\"/content/drive/MyDrive/Colab Notebooks/OSM_Changeset/Control_Data_MYS.csv\")\n",
        "\n",
        "\n",
        "# avg_segment_node_distance(Data)\n",
        "# Data['true_label'] = Data.apply(assign_true_label, axis=1)\n",
        "# Data['std_node_density'] = Data['node_density'].std()\n",
        "# Data['std_node_distance'] = Data['avg_segment_node_distance'].std()\n",
        "# Data['segment_length'] = round((Data['road_length'])/1000,2)\n",
        "\n",
        "# Reshape X to be a 2D array\n",
        "X = Data.iloc[:, [-5,  -1]]\n",
        "y = Data.iloc[:, -8]\n",
        "\n",
        "print(X.columns)  # Print the columns of the DataFrame X\n",
        "# use one-hot encoding on the y variable\n",
        "\n",
        "\n",
        "# Encoding the Dependent Variable (Classification)\n",
        "le = LabelEncoder()\n",
        "y = le.fit_transform(y)\n",
        "\n",
        "imputer = SimpleImputer(missing_values=np.nan, strategy='most_frequent')\n",
        "imputer.fit(X)  # Fit on the 2D array X\n",
        "X = imputer.transform(X)    # Transform the data\n"
      ]
    },
    {
      "cell_type": "code",
      "source": [
        "len(X)"
      ],
      "metadata": {
        "colab": {
          "base_uri": "https://localhost:8080/"
        },
        "id": "26sscVoH1ITw",
        "outputId": "6c36e5a6-03cb-4b6f-fb8f-0dd9ac3ee5a6"
      },
      "execution_count": null,
      "outputs": [
        {
          "output_type": "execute_result",
          "data": {
            "text/plain": [
              "788232"
            ]
          },
          "metadata": {},
          "execution_count": 5
        }
      ]
    },
    {
      "cell_type": "code",
      "execution_count": null,
      "metadata": {
        "id": "jrhh-ZdoiLi5",
        "colab": {
          "base_uri": "https://localhost:8080/",
          "height": 80
        },
        "outputId": "db636a4b-a1a7-4ea7-cfef-ad4b1c9ec4d0"
      },
      "outputs": [
        {
          "output_type": "execute_result",
          "data": {
            "text/plain": [
              "RandomForestClassifier(criterion='entropy', random_state=0)"
            ],
            "text/html": [
              "<style>#sk-container-id-2 {\n",
              "  /* Definition of color scheme common for light and dark mode */\n",
              "  --sklearn-color-text: black;\n",
              "  --sklearn-color-line: gray;\n",
              "  /* Definition of color scheme for unfitted estimators */\n",
              "  --sklearn-color-unfitted-level-0: #fff5e6;\n",
              "  --sklearn-color-unfitted-level-1: #f6e4d2;\n",
              "  --sklearn-color-unfitted-level-2: #ffe0b3;\n",
              "  --sklearn-color-unfitted-level-3: chocolate;\n",
              "  /* Definition of color scheme for fitted estimators */\n",
              "  --sklearn-color-fitted-level-0: #f0f8ff;\n",
              "  --sklearn-color-fitted-level-1: #d4ebff;\n",
              "  --sklearn-color-fitted-level-2: #b3dbfd;\n",
              "  --sklearn-color-fitted-level-3: cornflowerblue;\n",
              "\n",
              "  /* Specific color for light theme */\n",
              "  --sklearn-color-text-on-default-background: var(--sg-text-color, var(--theme-code-foreground, var(--jp-content-font-color1, black)));\n",
              "  --sklearn-color-background: var(--sg-background-color, var(--theme-background, var(--jp-layout-color0, white)));\n",
              "  --sklearn-color-border-box: var(--sg-text-color, var(--theme-code-foreground, var(--jp-content-font-color1, black)));\n",
              "  --sklearn-color-icon: #696969;\n",
              "\n",
              "  @media (prefers-color-scheme: dark) {\n",
              "    /* Redefinition of color scheme for dark theme */\n",
              "    --sklearn-color-text-on-default-background: var(--sg-text-color, var(--theme-code-foreground, var(--jp-content-font-color1, white)));\n",
              "    --sklearn-color-background: var(--sg-background-color, var(--theme-background, var(--jp-layout-color0, #111)));\n",
              "    --sklearn-color-border-box: var(--sg-text-color, var(--theme-code-foreground, var(--jp-content-font-color1, white)));\n",
              "    --sklearn-color-icon: #878787;\n",
              "  }\n",
              "}\n",
              "\n",
              "#sk-container-id-2 {\n",
              "  color: var(--sklearn-color-text);\n",
              "}\n",
              "\n",
              "#sk-container-id-2 pre {\n",
              "  padding: 0;\n",
              "}\n",
              "\n",
              "#sk-container-id-2 input.sk-hidden--visually {\n",
              "  border: 0;\n",
              "  clip: rect(1px 1px 1px 1px);\n",
              "  clip: rect(1px, 1px, 1px, 1px);\n",
              "  height: 1px;\n",
              "  margin: -1px;\n",
              "  overflow: hidden;\n",
              "  padding: 0;\n",
              "  position: absolute;\n",
              "  width: 1px;\n",
              "}\n",
              "\n",
              "#sk-container-id-2 div.sk-dashed-wrapped {\n",
              "  border: 1px dashed var(--sklearn-color-line);\n",
              "  margin: 0 0.4em 0.5em 0.4em;\n",
              "  box-sizing: border-box;\n",
              "  padding-bottom: 0.4em;\n",
              "  background-color: var(--sklearn-color-background);\n",
              "}\n",
              "\n",
              "#sk-container-id-2 div.sk-container {\n",
              "  /* jupyter's `normalize.less` sets `[hidden] { display: none; }`\n",
              "     but bootstrap.min.css set `[hidden] { display: none !important; }`\n",
              "     so we also need the `!important` here to be able to override the\n",
              "     default hidden behavior on the sphinx rendered scikit-learn.org.\n",
              "     See: https://github.com/scikit-learn/scikit-learn/issues/21755 */\n",
              "  display: inline-block !important;\n",
              "  position: relative;\n",
              "}\n",
              "\n",
              "#sk-container-id-2 div.sk-text-repr-fallback {\n",
              "  display: none;\n",
              "}\n",
              "\n",
              "div.sk-parallel-item,\n",
              "div.sk-serial,\n",
              "div.sk-item {\n",
              "  /* draw centered vertical line to link estimators */\n",
              "  background-image: linear-gradient(var(--sklearn-color-text-on-default-background), var(--sklearn-color-text-on-default-background));\n",
              "  background-size: 2px 100%;\n",
              "  background-repeat: no-repeat;\n",
              "  background-position: center center;\n",
              "}\n",
              "\n",
              "/* Parallel-specific style estimator block */\n",
              "\n",
              "#sk-container-id-2 div.sk-parallel-item::after {\n",
              "  content: \"\";\n",
              "  width: 100%;\n",
              "  border-bottom: 2px solid var(--sklearn-color-text-on-default-background);\n",
              "  flex-grow: 1;\n",
              "}\n",
              "\n",
              "#sk-container-id-2 div.sk-parallel {\n",
              "  display: flex;\n",
              "  align-items: stretch;\n",
              "  justify-content: center;\n",
              "  background-color: var(--sklearn-color-background);\n",
              "  position: relative;\n",
              "}\n",
              "\n",
              "#sk-container-id-2 div.sk-parallel-item {\n",
              "  display: flex;\n",
              "  flex-direction: column;\n",
              "}\n",
              "\n",
              "#sk-container-id-2 div.sk-parallel-item:first-child::after {\n",
              "  align-self: flex-end;\n",
              "  width: 50%;\n",
              "}\n",
              "\n",
              "#sk-container-id-2 div.sk-parallel-item:last-child::after {\n",
              "  align-self: flex-start;\n",
              "  width: 50%;\n",
              "}\n",
              "\n",
              "#sk-container-id-2 div.sk-parallel-item:only-child::after {\n",
              "  width: 0;\n",
              "}\n",
              "\n",
              "/* Serial-specific style estimator block */\n",
              "\n",
              "#sk-container-id-2 div.sk-serial {\n",
              "  display: flex;\n",
              "  flex-direction: column;\n",
              "  align-items: center;\n",
              "  background-color: var(--sklearn-color-background);\n",
              "  padding-right: 1em;\n",
              "  padding-left: 1em;\n",
              "}\n",
              "\n",
              "\n",
              "/* Toggleable style: style used for estimator/Pipeline/ColumnTransformer box that is\n",
              "clickable and can be expanded/collapsed.\n",
              "- Pipeline and ColumnTransformer use this feature and define the default style\n",
              "- Estimators will overwrite some part of the style using the `sk-estimator` class\n",
              "*/\n",
              "\n",
              "/* Pipeline and ColumnTransformer style (default) */\n",
              "\n",
              "#sk-container-id-2 div.sk-toggleable {\n",
              "  /* Default theme specific background. It is overwritten whether we have a\n",
              "  specific estimator or a Pipeline/ColumnTransformer */\n",
              "  background-color: var(--sklearn-color-background);\n",
              "}\n",
              "\n",
              "/* Toggleable label */\n",
              "#sk-container-id-2 label.sk-toggleable__label {\n",
              "  cursor: pointer;\n",
              "  display: block;\n",
              "  width: 100%;\n",
              "  margin-bottom: 0;\n",
              "  padding: 0.5em;\n",
              "  box-sizing: border-box;\n",
              "  text-align: center;\n",
              "}\n",
              "\n",
              "#sk-container-id-2 label.sk-toggleable__label-arrow:before {\n",
              "  /* Arrow on the left of the label */\n",
              "  content: \"▸\";\n",
              "  float: left;\n",
              "  margin-right: 0.25em;\n",
              "  color: var(--sklearn-color-icon);\n",
              "}\n",
              "\n",
              "#sk-container-id-2 label.sk-toggleable__label-arrow:hover:before {\n",
              "  color: var(--sklearn-color-text);\n",
              "}\n",
              "\n",
              "/* Toggleable content - dropdown */\n",
              "\n",
              "#sk-container-id-2 div.sk-toggleable__content {\n",
              "  max-height: 0;\n",
              "  max-width: 0;\n",
              "  overflow: hidden;\n",
              "  text-align: left;\n",
              "  /* unfitted */\n",
              "  background-color: var(--sklearn-color-unfitted-level-0);\n",
              "}\n",
              "\n",
              "#sk-container-id-2 div.sk-toggleable__content.fitted {\n",
              "  /* fitted */\n",
              "  background-color: var(--sklearn-color-fitted-level-0);\n",
              "}\n",
              "\n",
              "#sk-container-id-2 div.sk-toggleable__content pre {\n",
              "  margin: 0.2em;\n",
              "  border-radius: 0.25em;\n",
              "  color: var(--sklearn-color-text);\n",
              "  /* unfitted */\n",
              "  background-color: var(--sklearn-color-unfitted-level-0);\n",
              "}\n",
              "\n",
              "#sk-container-id-2 div.sk-toggleable__content.fitted pre {\n",
              "  /* unfitted */\n",
              "  background-color: var(--sklearn-color-fitted-level-0);\n",
              "}\n",
              "\n",
              "#sk-container-id-2 input.sk-toggleable__control:checked~div.sk-toggleable__content {\n",
              "  /* Expand drop-down */\n",
              "  max-height: 200px;\n",
              "  max-width: 100%;\n",
              "  overflow: auto;\n",
              "}\n",
              "\n",
              "#sk-container-id-2 input.sk-toggleable__control:checked~label.sk-toggleable__label-arrow:before {\n",
              "  content: \"▾\";\n",
              "}\n",
              "\n",
              "/* Pipeline/ColumnTransformer-specific style */\n",
              "\n",
              "#sk-container-id-2 div.sk-label input.sk-toggleable__control:checked~label.sk-toggleable__label {\n",
              "  color: var(--sklearn-color-text);\n",
              "  background-color: var(--sklearn-color-unfitted-level-2);\n",
              "}\n",
              "\n",
              "#sk-container-id-2 div.sk-label.fitted input.sk-toggleable__control:checked~label.sk-toggleable__label {\n",
              "  background-color: var(--sklearn-color-fitted-level-2);\n",
              "}\n",
              "\n",
              "/* Estimator-specific style */\n",
              "\n",
              "/* Colorize estimator box */\n",
              "#sk-container-id-2 div.sk-estimator input.sk-toggleable__control:checked~label.sk-toggleable__label {\n",
              "  /* unfitted */\n",
              "  background-color: var(--sklearn-color-unfitted-level-2);\n",
              "}\n",
              "\n",
              "#sk-container-id-2 div.sk-estimator.fitted input.sk-toggleable__control:checked~label.sk-toggleable__label {\n",
              "  /* fitted */\n",
              "  background-color: var(--sklearn-color-fitted-level-2);\n",
              "}\n",
              "\n",
              "#sk-container-id-2 div.sk-label label.sk-toggleable__label,\n",
              "#sk-container-id-2 div.sk-label label {\n",
              "  /* The background is the default theme color */\n",
              "  color: var(--sklearn-color-text-on-default-background);\n",
              "}\n",
              "\n",
              "/* On hover, darken the color of the background */\n",
              "#sk-container-id-2 div.sk-label:hover label.sk-toggleable__label {\n",
              "  color: var(--sklearn-color-text);\n",
              "  background-color: var(--sklearn-color-unfitted-level-2);\n",
              "}\n",
              "\n",
              "/* Label box, darken color on hover, fitted */\n",
              "#sk-container-id-2 div.sk-label.fitted:hover label.sk-toggleable__label.fitted {\n",
              "  color: var(--sklearn-color-text);\n",
              "  background-color: var(--sklearn-color-fitted-level-2);\n",
              "}\n",
              "\n",
              "/* Estimator label */\n",
              "\n",
              "#sk-container-id-2 div.sk-label label {\n",
              "  font-family: monospace;\n",
              "  font-weight: bold;\n",
              "  display: inline-block;\n",
              "  line-height: 1.2em;\n",
              "}\n",
              "\n",
              "#sk-container-id-2 div.sk-label-container {\n",
              "  text-align: center;\n",
              "}\n",
              "\n",
              "/* Estimator-specific */\n",
              "#sk-container-id-2 div.sk-estimator {\n",
              "  font-family: monospace;\n",
              "  border: 1px dotted var(--sklearn-color-border-box);\n",
              "  border-radius: 0.25em;\n",
              "  box-sizing: border-box;\n",
              "  margin-bottom: 0.5em;\n",
              "  /* unfitted */\n",
              "  background-color: var(--sklearn-color-unfitted-level-0);\n",
              "}\n",
              "\n",
              "#sk-container-id-2 div.sk-estimator.fitted {\n",
              "  /* fitted */\n",
              "  background-color: var(--sklearn-color-fitted-level-0);\n",
              "}\n",
              "\n",
              "/* on hover */\n",
              "#sk-container-id-2 div.sk-estimator:hover {\n",
              "  /* unfitted */\n",
              "  background-color: var(--sklearn-color-unfitted-level-2);\n",
              "}\n",
              "\n",
              "#sk-container-id-2 div.sk-estimator.fitted:hover {\n",
              "  /* fitted */\n",
              "  background-color: var(--sklearn-color-fitted-level-2);\n",
              "}\n",
              "\n",
              "/* Specification for estimator info (e.g. \"i\" and \"?\") */\n",
              "\n",
              "/* Common style for \"i\" and \"?\" */\n",
              "\n",
              ".sk-estimator-doc-link,\n",
              "a:link.sk-estimator-doc-link,\n",
              "a:visited.sk-estimator-doc-link {\n",
              "  float: right;\n",
              "  font-size: smaller;\n",
              "  line-height: 1em;\n",
              "  font-family: monospace;\n",
              "  background-color: var(--sklearn-color-background);\n",
              "  border-radius: 1em;\n",
              "  height: 1em;\n",
              "  width: 1em;\n",
              "  text-decoration: none !important;\n",
              "  margin-left: 1ex;\n",
              "  /* unfitted */\n",
              "  border: var(--sklearn-color-unfitted-level-1) 1pt solid;\n",
              "  color: var(--sklearn-color-unfitted-level-1);\n",
              "}\n",
              "\n",
              ".sk-estimator-doc-link.fitted,\n",
              "a:link.sk-estimator-doc-link.fitted,\n",
              "a:visited.sk-estimator-doc-link.fitted {\n",
              "  /* fitted */\n",
              "  border: var(--sklearn-color-fitted-level-1) 1pt solid;\n",
              "  color: var(--sklearn-color-fitted-level-1);\n",
              "}\n",
              "\n",
              "/* On hover */\n",
              "div.sk-estimator:hover .sk-estimator-doc-link:hover,\n",
              ".sk-estimator-doc-link:hover,\n",
              "div.sk-label-container:hover .sk-estimator-doc-link:hover,\n",
              ".sk-estimator-doc-link:hover {\n",
              "  /* unfitted */\n",
              "  background-color: var(--sklearn-color-unfitted-level-3);\n",
              "  color: var(--sklearn-color-background);\n",
              "  text-decoration: none;\n",
              "}\n",
              "\n",
              "div.sk-estimator.fitted:hover .sk-estimator-doc-link.fitted:hover,\n",
              ".sk-estimator-doc-link.fitted:hover,\n",
              "div.sk-label-container:hover .sk-estimator-doc-link.fitted:hover,\n",
              ".sk-estimator-doc-link.fitted:hover {\n",
              "  /* fitted */\n",
              "  background-color: var(--sklearn-color-fitted-level-3);\n",
              "  color: var(--sklearn-color-background);\n",
              "  text-decoration: none;\n",
              "}\n",
              "\n",
              "/* Span, style for the box shown on hovering the info icon */\n",
              ".sk-estimator-doc-link span {\n",
              "  display: none;\n",
              "  z-index: 9999;\n",
              "  position: relative;\n",
              "  font-weight: normal;\n",
              "  right: .2ex;\n",
              "  padding: .5ex;\n",
              "  margin: .5ex;\n",
              "  width: min-content;\n",
              "  min-width: 20ex;\n",
              "  max-width: 50ex;\n",
              "  color: var(--sklearn-color-text);\n",
              "  box-shadow: 2pt 2pt 4pt #999;\n",
              "  /* unfitted */\n",
              "  background: var(--sklearn-color-unfitted-level-0);\n",
              "  border: .5pt solid var(--sklearn-color-unfitted-level-3);\n",
              "}\n",
              "\n",
              ".sk-estimator-doc-link.fitted span {\n",
              "  /* fitted */\n",
              "  background: var(--sklearn-color-fitted-level-0);\n",
              "  border: var(--sklearn-color-fitted-level-3);\n",
              "}\n",
              "\n",
              ".sk-estimator-doc-link:hover span {\n",
              "  display: block;\n",
              "}\n",
              "\n",
              "/* \"?\"-specific style due to the `<a>` HTML tag */\n",
              "\n",
              "#sk-container-id-2 a.estimator_doc_link {\n",
              "  float: right;\n",
              "  font-size: 1rem;\n",
              "  line-height: 1em;\n",
              "  font-family: monospace;\n",
              "  background-color: var(--sklearn-color-background);\n",
              "  border-radius: 1rem;\n",
              "  height: 1rem;\n",
              "  width: 1rem;\n",
              "  text-decoration: none;\n",
              "  /* unfitted */\n",
              "  color: var(--sklearn-color-unfitted-level-1);\n",
              "  border: var(--sklearn-color-unfitted-level-1) 1pt solid;\n",
              "}\n",
              "\n",
              "#sk-container-id-2 a.estimator_doc_link.fitted {\n",
              "  /* fitted */\n",
              "  border: var(--sklearn-color-fitted-level-1) 1pt solid;\n",
              "  color: var(--sklearn-color-fitted-level-1);\n",
              "}\n",
              "\n",
              "/* On hover */\n",
              "#sk-container-id-2 a.estimator_doc_link:hover {\n",
              "  /* unfitted */\n",
              "  background-color: var(--sklearn-color-unfitted-level-3);\n",
              "  color: var(--sklearn-color-background);\n",
              "  text-decoration: none;\n",
              "}\n",
              "\n",
              "#sk-container-id-2 a.estimator_doc_link.fitted:hover {\n",
              "  /* fitted */\n",
              "  background-color: var(--sklearn-color-fitted-level-3);\n",
              "}\n",
              "</style><div id=\"sk-container-id-2\" class=\"sk-top-container\"><div class=\"sk-text-repr-fallback\"><pre>RandomForestClassifier(criterion=&#x27;entropy&#x27;, random_state=0)</pre><b>In a Jupyter environment, please rerun this cell to show the HTML representation or trust the notebook. <br />On GitHub, the HTML representation is unable to render, please try loading this page with nbviewer.org.</b></div><div class=\"sk-container\" hidden><div class=\"sk-item\"><div class=\"sk-estimator fitted sk-toggleable\"><input class=\"sk-toggleable__control sk-hidden--visually\" id=\"sk-estimator-id-2\" type=\"checkbox\" checked><label for=\"sk-estimator-id-2\" class=\"sk-toggleable__label fitted sk-toggleable__label-arrow fitted\">&nbsp;&nbsp;RandomForestClassifier<a class=\"sk-estimator-doc-link fitted\" rel=\"noreferrer\" target=\"_blank\" href=\"https://scikit-learn.org/1.5/modules/generated/sklearn.ensemble.RandomForestClassifier.html\">?<span>Documentation for RandomForestClassifier</span></a><span class=\"sk-estimator-doc-link fitted\">i<span>Fitted</span></span></label><div class=\"sk-toggleable__content fitted\"><pre>RandomForestClassifier(criterion=&#x27;entropy&#x27;, random_state=0)</pre></div> </div></div></div></div>"
            ]
          },
          "metadata": {},
          "execution_count": 9
        }
      ],
      "source": [
        "# Splitting the dataset into the Training set and Test set\n",
        "from sklearn.model_selection import train_test_split\n",
        "X_train, X_test, y_train, y_test = train_test_split(X, y, test_size = 0.40, random_state = 0)\n",
        "\n",
        "\n",
        "# Feature Scaling\n",
        "from sklearn.preprocessing import StandardScaler\n",
        "sc = StandardScaler(with_mean=False) # Set with_mean=False for sparse matrices\n",
        "X_train = sc.fit_transform(X_train)\n",
        "X_test = sc.transform(X_test)\n",
        "\n",
        "# Training the Random Forest Classification model on the Training set\n",
        "from sklearn.ensemble import RandomForestClassifier\n",
        "RF_classifier = RandomForestClassifier(n_estimators =100, criterion = 'entropy', random_state = 0)\n",
        "RF_classifier.fit(X_train, y_train)"
      ]
    },
    {
      "cell_type": "code",
      "execution_count": null,
      "metadata": {
        "colab": {
          "base_uri": "https://localhost:8080/"
        },
        "id": "_ji7tZC1iQVT",
        "outputId": "e01fc7fa-3484-470d-8842-4a02cf07b2ae"
      },
      "outputs": [
        {
          "output_type": "stream",
          "name": "stdout",
          "text": [
            "Confusion Matrix:\n",
            "[[ 80807  75898]\n",
            " [ 42839 115749]]\n",
            "Accuracy: 0.6234074337203808\n",
            "Precision: 0.6287524453790143\n",
            "Recall: 0.7298723736978838\n",
            "F1-score: 0.6609790569189259\n",
            "Sensitivity: 0.7298723736978838\n",
            "Specificity: 0.5156631887942312\n",
            "False Positive Rate (FPR): 0.4843368112057688\n"
          ]
        }
      ],
      "source": [
        "from sklearn.metrics import confusion_matrix, accuracy_score, precision_score, recall_score, f1_score\n",
        "\n",
        "# Predicting the Test set results\n",
        "y_pred = RF_classifier.predict(X_test)\n",
        "\n",
        "# Making the Confusion Matrix\n",
        "cm = confusion_matrix(y_test, y_pred)\n",
        "print(\"Confusion Matrix:\")\n",
        "print(cm)\n",
        "\n",
        "# Calculate Accuracy\n",
        "accuracy = accuracy_score(y_test, y_pred)\n",
        "print(\"Accuracy:\", accuracy)\n",
        "\n",
        "# Calculate Precision\n",
        "precision = precision_score(y_test, y_pred, average= 'macro')\n",
        "print(\"Precision:\", precision)\n",
        "\n",
        "# Calculate Recall\n",
        "recall = recall_score(y_test, y_pred)\n",
        "print(\"Recall:\", recall, )\n",
        "\n",
        "# Calculate F1-score\n",
        "f1 = f1_score(y_test, y_pred)\n",
        "print(\"F1-score:\", f1 )\n",
        "\n",
        "# Calculate Sensitivity (same as Recall)\n",
        "sensitivity = recall\n",
        "print(\"Sensitivity:\", sensitivity)\n",
        "\n",
        "# Calculate Specificity\n",
        "tn, fp, fn, tp = confusion_matrix(y_test, y_pred).ravel()\n",
        "specificity = tn / (tn + fp)\n",
        "print(\"Specificity:\", specificity)\n",
        "\n",
        "# Calculate False Positive Rate (FPR)\n",
        "fpr = fp / (fp + tn)\n",
        "print(\"False Positive Rate (FPR):\", fpr)"
      ]
    },
    {
      "cell_type": "code",
      "source": [
        "# Plot the confusion matrix using Seaborn\n",
        "import seaborn as sns\n",
        "from sklearn.metrics import confusion_matrix\n",
        "\n",
        "# Plot the confusion matrix\n",
        "plt.figure(figsize=(8, 6))\n",
        "sns.heatmap(cm, annot=True, fmt='d', cmap='Blues',\n",
        "            xticklabels=['Human_Gen', 'Machine_Gen'],\n",
        "            yticklabels=['Human_Gen', 'Machine_Gen'])\n",
        "plt.xlabel('Predicted Label')\n",
        "plt.ylabel('True Label')\n",
        "plt.title('Confusion Matrix')\n",
        "plt.show()"
      ],
      "metadata": {
        "colab": {
          "base_uri": "https://localhost:8080/",
          "height": 564
        },
        "id": "FcH_mrVZisvx",
        "outputId": "8d3b8a01-98dc-4677-a08d-79c2f4229cec"
      },
      "execution_count": null,
      "outputs": [
        {
          "output_type": "display_data",
          "data": {
            "text/plain": [
              "<Figure size 800x600 with 2 Axes>"
            ],
            "image/png": "[encoded data removed]"
          },
          "metadata": {}
        }
      ]
    },
    {
      "cell_type": "code",
      "execution_count": null,
      "metadata": {
        "colab": {
          "base_uri": "https://localhost:8080/",
          "height": 472
        },
        "id": "XitrE7vkrv73",
        "outputId": "77560a30-321e-45da-8ea6-0000dfadaadf"
      },
      "outputs": [
        {
          "output_type": "display_data",
          "data": {
            "text/plain": [
              "<Figure size 640x480 with 1 Axes>"
            ],
            "image/png": "[encoded data removed]"
          },
          "metadata": {}
        }
      ],
      "source": [
        "# print(classification_report(y_test, y_pred))\n",
        "y_prob = RF_classifier.predict_proba(X_test)[:,1]\n",
        "\n",
        "import matplotlib.pyplot as plt\n",
        "from sklearn.metrics import precision_recall_curve, classification_report, roc_auc_score, roc_curve\n",
        "\n",
        "\n",
        "precision, recall, thresholds = precision_recall_curve(y_test, y_prob)\n",
        "\n",
        "plt.plot(thresholds, precision[:-1], 'b--', label='Precision')\n",
        "plt.plot(thresholds, recall[:-1], 'g--', label='Recall')\n",
        "plt.xlabel('Threshold')\n",
        "plt.legend(loc='best')\n",
        "plt.title('Precision-Recall vs. Threshold')\n",
        "plt.show()"
      ]
    },
    {
      "cell_type": "code",
      "execution_count": null,
      "metadata": {
        "colab": {
          "base_uri": "https://localhost:8080/"
        },
        "id": "BDr69VM8s5HX",
        "outputId": "c6e3a957-6a05-43d0-dcc2-ff0356946a7a"
      },
      "outputs": [
        {
          "output_type": "stream",
          "name": "stdout",
          "text": [
            "              precision    recall  f1-score   support\n",
            "\n",
            "           0       0.61      0.65      0.63    156705\n",
            "           1       0.63      0.59      0.61    158588\n",
            "\n",
            "    accuracy                           0.62    315293\n",
            "   macro avg       0.62      0.62      0.62    315293\n",
            "weighted avg       0.62      0.62      0.62    315293\n",
            "\n"
          ]
        }
      ],
      "source": [
        "# Set a new threshold (for example, 0.4)\n",
        "threshold = 0.65\n",
        "y_pred_adjusted = (y_prob >= threshold).astype(int)\n",
        "\n",
        "# Evaluate the model with the new threshold\n",
        "print(classification_report(y_test, y_pred_adjusted))"
      ]
    },
    {
      "cell_type": "code",
      "execution_count": null,
      "metadata": {
        "colab": {
          "base_uri": "https://localhost:8080/",
          "height": 489
        },
        "id": "U0KHcV0lw9Dx",
        "outputId": "5f827a8b-9afd-4936-affa-5a7439e72d4a"
      },
      "outputs": [
        {
          "output_type": "stream",
          "name": "stdout",
          "text": [
            "ROC-AUC Score: 0.6572691803497122\n"
          ]
        },
        {
          "output_type": "display_data",
          "data": {
            "text/plain": [
              "<Figure size 640x480 with 1 Axes>"
            ],
            "image/png": "[encoded data removed]"
          },
          "metadata": {}
        }
      ],
      "source": [
        "auc_score = roc_auc_score(y_test, y_prob)\n",
        "print(f\"ROC-AUC Score: {auc_score}\")\n",
        "\n",
        "# Plotting the ROC Curve\n",
        "fpr, tpr, thresholds = roc_curve(y_test, y_prob)\n",
        "plt.plot(fpr, tpr, label=f'ROC Curve (AUC = {auc_score:.2f})')\n",
        "plt.plot([0, 1], [0, 1], 'k--', label='Random Classifier (AUC = 0.5)')\n",
        "plt.xlabel('False Positive Rate')\n",
        "plt.ylabel('True Positive Rate')\n",
        "plt.title('ROC Curve')\n",
        "plt.legend()\n",
        "plt.show()"
      ]
    },
    {
      "cell_type": "markdown",
      "metadata": {
        "id": "hBCb-nVRiruv"
      },
      "source": [
        "# Logistic Regression"
      ]
    },
    {
      "cell_type": "code",
      "execution_count": null,
      "metadata": {
        "id": "1-wvFBU1ivKT"
      },
      "outputs": [],
      "source": [
        "from sklearn.model_selection import train_test_split\n",
        "X_train, X_test, y_train, y_test = train_test_split(X, y, test_size = 0.40, random_state = 0)\n",
        "\n",
        "\n",
        "# Feature Scaling - Generally recommended for Logistic Regression\n",
        "from sklearn.preprocessing import StandardScaler\n",
        "sc = StandardScaler(with_mean=False)\n",
        "X_train = sc.fit_transform(X_train)\n",
        "X_test = sc.transform(X_test)\n",
        "\n",
        "# Training the Logistic Regression model\n",
        "from sklearn.linear_model import LogisticRegression\n",
        "classifier = LogisticRegression(random_state=0)\n",
        "classifier.fit(X_train, y_train)\n",
        "\n",
        "# Predicting the Test set results\n",
        "y_pred = classifier.predict(X_test)"
      ]
    },
    {
      "cell_type": "code",
      "source": [
        "print(classification_report(y_test, y_pred))"
      ],
      "metadata": {
        "colab": {
          "base_uri": "https://localhost:8080/"
        },
        "id": "5s9kAC09EO6-",
        "outputId": "37dd136c-c6c7-4d62-a473-2381d9419ee7"
      },
      "execution_count": null,
      "outputs": [
        {
          "output_type": "stream",
          "name": "stdout",
          "text": [
            "              precision    recall  f1-score   support\n",
            "\n",
            "           0       0.64      0.48      0.55    156705\n",
            "           1       0.59      0.74      0.65    158588\n",
            "\n",
            "    accuracy                           0.61    315293\n",
            "   macro avg       0.62      0.61      0.60    315293\n",
            "weighted avg       0.62      0.61      0.60    315293\n",
            "\n"
          ]
        }
      ]
    },
    {
      "cell_type": "code",
      "execution_count": null,
      "metadata": {
        "colab": {
          "base_uri": "https://localhost:8080/"
        },
        "id": "d2p-gra_i1VG",
        "outputId": "22bd3d6f-b753-417e-ae94-4137b92284aa"
      },
      "outputs": [
        {
          "output_type": "stream",
          "name": "stdout",
          "text": [
            "Confusion Matrix:\n",
            "[[ 74670  82035]\n",
            " [ 41543 117045]]\n",
            "Accuracy: 0.6080534613835384\n",
            "Precision: 0.6152282797383846\n",
            "Recall: 0.7380444926476152\n",
            "F1-score: 0.6544896384356442\n",
            "Sensitivity: 0.7380444926476152\n",
            "Specificity: 0.4765004307456686\n",
            "False Positive Rate (FPR): 0.5234995692543314\n"
          ]
        }
      ],
      "source": [
        "# Evaluation - Use the same metrics as in your Random Forest example\n",
        "from sklearn.metrics import confusion_matrix, accuracy_score, precision_score, recall_score, f1_score\n",
        "\n",
        "predictions = []\n",
        "\n",
        "# Predicting the Test set results\n",
        "y_pred = classifier.predict(X_test)\n",
        "\n",
        "# Making the Confusion Matrix\n",
        "cm = confusion_matrix(y_test, y_pred)\n",
        "print(\"Confusion Matrix:\")\n",
        "print(cm)\n",
        "\n",
        "# Calculate Accuracy\n",
        "accuracy = accuracy_score(y_test, y_pred)\n",
        "print(\"Accuracy:\", accuracy)\n",
        "\n",
        "# Calculate Precision\n",
        "precision = precision_score(y_test, y_pred, average= 'macro')\n",
        "print(\"Precision:\", precision)\n",
        "\n",
        "# Calculate Recall\n",
        "recall = recall_score(y_test, y_pred)\n",
        "print(\"Recall:\", recall, )\n",
        "\n",
        "# Calculate F1-score\n",
        "f1 = f1_score(y_test, y_pred)\n",
        "print(\"F1-score:\", f1 )\n",
        "\n",
        "# Calculate Sensitivity (same as Recall)\n",
        "sensitivity = recall\n",
        "print(\"Sensitivity:\", sensitivity)\n",
        "\n",
        "# Calculate Specificity\n",
        "tn, fp, fn, tp = confusion_matrix(y_test, y_pred).ravel()\n",
        "specificity = tn / (tn + fp)\n",
        "print(\"Specificity:\", specificity)\n",
        "\n",
        "# Calculate False Positive Rate (FPR)\n",
        "fpr = fp / (fp + tn)\n",
        "print(\"False Positive Rate (FPR):\", fpr)"
      ]
    },
    {
      "cell_type": "code",
      "execution_count": null,
      "metadata": {
        "colab": {
          "base_uri": "https://localhost:8080/",
          "height": 472
        },
        "id": "8jJd4CHqDcyN",
        "outputId": "318067ce-a4c0-409b-fe16-6be86d47d959"
      },
      "outputs": [
        {
          "output_type": "display_data",
          "data": {
            "text/plain": [
              "<Figure size 640x480 with 1 Axes>"
            ],
            "image/png": "[encoded data removed]"
          },
          "metadata": {}
        }
      ],
      "source": [
        "# print(classification_report(y_test, y_pred))\n",
        "y_prob = classifier.predict_proba(X_test)[:,1]\n",
        "\n",
        "import matplotlib.pyplot as plt\n",
        "from sklearn.metrics import precision_recall_curve, classification_report, roc_auc_score, roc_curve\n",
        "\n",
        "\n",
        "precision, recall, thresholds = precision_recall_curve(y_test, y_prob)\n",
        "\n",
        "plt.plot(thresholds, precision[:-1], 'b--', label='Precision')\n",
        "plt.plot(thresholds, recall[:-1], 'g--', label='Recall')\n",
        "plt.xlabel('Threshold')\n",
        "plt.legend(loc='best')\n",
        "plt.title('Precision-Recall vs. Threshold')\n",
        "plt.show()"
      ]
    },
    {
      "cell_type": "code",
      "execution_count": null,
      "metadata": {
        "colab": {
          "base_uri": "https://localhost:8080/"
        },
        "id": "dRth2AFoDl9v",
        "outputId": "8facfda5-f5a4-4962-d2fb-e4f45828a970"
      },
      "outputs": [
        {
          "output_type": "stream",
          "name": "stdout",
          "text": [
            "              precision    recall  f1-score   support\n",
            "\n",
            "           0       0.51      0.94      0.66    156705\n",
            "           1       0.66      0.12      0.20    158588\n",
            "\n",
            "    accuracy                           0.53    315293\n",
            "   macro avg       0.59      0.53      0.43    315293\n",
            "weighted avg       0.59      0.53      0.43    315293\n",
            "\n"
          ]
        }
      ],
      "source": [
        "# Set a new threshold (for example, 0.4)\n",
        "threshold = 0.65\n",
        "y_pred_adjusted = (y_prob >= threshold).astype(int)\n",
        "\n",
        "# Evaluate the model with the new threshold\n",
        "print(classification_report(y_test, y_pred_adjusted))"
      ]
    },
    {
      "cell_type": "code",
      "execution_count": null,
      "metadata": {
        "colab": {
          "base_uri": "https://localhost:8080/",
          "height": 564
        },
        "id": "UQ0mG1T_cbc1",
        "outputId": "69df4668-0a83-4bb0-fe87-a27203f65f4a"
      },
      "outputs": [
        {
          "output_type": "display_data",
          "data": {
            "text/plain": [
              "<Figure size 800x600 with 2 Axes>"
            ],
            "image/png": "[encoded data removed]"
          },
          "metadata": {}
        }
      ],
      "source": [
        "# Plot the confusion matrix using Seaborn\n",
        "import seaborn as sns\n",
        "from sklearn.metrics import confusion_matrix\n",
        "\n",
        "# Plot the confusion matrix\n",
        "plt.figure(figsize=(8, 6))\n",
        "sns.heatmap(cm, annot=True, fmt='d', cmap='Blues',\n",
        "            xticklabels=['Human_Gen', 'Machine_Gen'],\n",
        "            yticklabels=['Human_Gen', 'Machine_Gen'])\n",
        "plt.xlabel('Predicted Label')\n",
        "plt.ylabel('True Label')\n",
        "plt.title('Confusion Matrix')\n",
        "plt.show()"
      ]
    },
    {
      "cell_type": "markdown",
      "metadata": {
        "id": "WrTw2OUJJPyO"
      },
      "source": [
        "# XGBoost"
      ]
    },
    {
      "cell_type": "code",
      "execution_count": null,
      "metadata": {
        "colab": {
          "base_uri": "https://localhost:8080/"
        },
        "id": "IX3A8wMkJRnY",
        "outputId": "af0fb478-a63f-4a85-f173-392ac642655e"
      },
      "outputs": [
        {
          "output_type": "stream",
          "name": "stderr",
          "text": [
            "/usr/local/lib/python3.10/dist-packages/xgboost/core.py:158: UserWarning: [07:42:41] WARNING: /workspace/src/learner.cc:740: \n",
            "Parameters: { \"use_label_encoder\" } are not used.\n",
            "\n",
            "  warnings.warn(smsg, UserWarning)\n"
          ]
        },
        {
          "output_type": "stream",
          "name": "stdout",
          "text": [
            "              precision    recall  f1-score   support\n",
            "\n",
            "           0       0.66      0.63      0.65    156705\n",
            "           1       0.65      0.68      0.67    158588\n",
            "\n",
            "    accuracy                           0.66    315293\n",
            "   macro avg       0.66      0.66      0.66    315293\n",
            "weighted avg       0.66      0.66      0.66    315293\n",
            "\n",
            "AUC-ROC Score: 0.700170251713579\n"
          ]
        }
      ],
      "source": [
        "import xgboost as xgb\n",
        "from sklearn.metrics import classification_report, roc_auc_score\n",
        "\n",
        "# Instantiate the XGBoost classifier\n",
        "xgb_clf = xgb.XGBClassifier(objective='binary:logistic', eval_metric='logloss', use_label_encoder=False)\n",
        "\n",
        "# Train the model on the training set\n",
        "xgb_clf.fit(X_train, y_train)\n",
        "\n",
        "# Predict probabilities and class labels\n",
        "y_prob = xgb_clf.predict_proba(X_test)[:, 1]  # Probabilities for the positive class\n",
        "y_pred = xgb_clf.predict(X_test)  # Predicted class labels\n",
        "\n",
        "# Evaluate the performance\n",
        "print(classification_report(y_test, y_pred))\n",
        "\n",
        "# Calculate AUC-ROC score\n",
        "roc_auc = roc_auc_score(y_test, y_prob)\n",
        "print(f\"AUC-ROC Score: {roc_auc}\")\n"
      ]
    },
    {
      "cell_type": "code",
      "execution_count": null,
      "metadata": {
        "colab": {
          "base_uri": "https://localhost:8080/"
        },
        "outputId": "c75847b7-a617-4a9d-af57-b490f521ed0d",
        "id": "C3tkxzEKZpnP"
      },
      "outputs": [
        {
          "output_type": "stream",
          "name": "stdout",
          "text": [
            "Confusion Matrix:\n",
            "[[ 98587  58118]\n",
            " [ 49961 108627]]\n",
            "Accuracy: 0.6572109117550976\n",
            "Precision: 0.6575634088661422\n",
            "Recall: 0.6849635533583878\n",
            "F1-score: 0.6677896186369043\n",
            "Sensitivity: 0.6849635533583878\n",
            "Specificity: 0.6291247886155515\n",
            "False Positive Rate (FPR): 0.3708752113844485\n"
          ]
        }
      ],
      "source": [
        "# Evaluation - Use the same metrics as in your Random Forest example\n",
        "from sklearn.metrics import confusion_matrix, accuracy_score, precision_score, recall_score, f1_score\n",
        "\n",
        "# Predicting the Test set results\n",
        "y_pred = xgb_clf.predict(X_test)\n",
        "\n",
        "# Making the Confusion Matrix\n",
        "cm = confusion_matrix(y_test, y_pred)\n",
        "print(\"Confusion Matrix:\")\n",
        "print(cm)\n",
        "\n",
        "# Calculate Accuracy\n",
        "accuracy = accuracy_score(y_test, y_pred)\n",
        "print(\"Accuracy:\", accuracy)\n",
        "\n",
        "# Calculate Precision\n",
        "precision = precision_score(y_test, y_pred, average= 'macro')\n",
        "print(\"Precision:\", precision)\n",
        "\n",
        "# Calculate Recall\n",
        "recall = recall_score(y_test, y_pred)\n",
        "print(\"Recall:\", recall, )\n",
        "\n",
        "# Calculate F1-score\n",
        "f1 = f1_score(y_test, y_pred)\n",
        "print(\"F1-score:\", f1 )\n",
        "\n",
        "# Calculate Sensitivity (same as Recall)\n",
        "sensitivity = recall\n",
        "print(\"Sensitivity:\", sensitivity)\n",
        "\n",
        "# Calculate Specificity\n",
        "tn, fp, fn, tp = confusion_matrix(y_test, y_pred).ravel()\n",
        "specificity = tn / (tn + fp)\n",
        "print(\"Specificity:\", specificity)\n",
        "\n",
        "# Calculate False Positive Rate (FPR)\n",
        "fpr = fp / (fp + tn)\n",
        "print(\"False Positive Rate (FPR):\", fpr)"
      ]
    },
    {
      "cell_type": "code",
      "source": [
        "import seaborn as sns\n",
        "\n",
        "# Plot the confusion matrix\n",
        "plt.figure(figsize=(8, 6))\n",
        "sns.heatmap(cm, annot=True, fmt='d', cmap='Blues',\n",
        "            xticklabels=['Human_Gen', 'Machine_Gen'],\n",
        "            yticklabels=['Human_Gen', 'Machine_Gen'])\n",
        "plt.xlabel('Predicted Label')\n",
        "plt.ylabel('True Label')\n",
        "plt.title('Confusion Matrix')\n",
        "plt.show()"
      ],
      "metadata": {
        "colab": {
          "base_uri": "https://localhost:8080/",
          "height": 564
        },
        "id": "JG6LsTaEXzzL",
        "outputId": "ee2bcc89-6fa6-47d6-ec6c-1bff97844aff"
      },
      "execution_count": null,
      "outputs": [
        {
          "output_type": "display_data",
          "data": {
            "text/plain": [
              "<Figure size 800x600 with 2 Axes>"
            ],
            "image/png": "[encoded data removed]"
          },
          "metadata": {}
        }
      ]
    },
    {
      "cell_type": "code",
      "execution_count": null,
      "metadata": {
        "id": "zCVFZZ2zJhbt"
      },
      "outputs": [],
      "source": [
        "from sklearn.model_selection import RandomizedSearchCV\n",
        "\n",
        "# Define the parameter grid\n",
        "param_grid = {\n",
        "    'n_estimators': [100, 200, 300],\n",
        "    'learning_rate': [0.01, 0.1, 0.2],\n",
        "    'max_depth': [3, 5, 7],\n",
        "    'subsample': [0.7, 0.8, 0.9],\n",
        "    'colsample_bytree': [0.7, 0.8, 0.9],\n",
        "    'gamma': [0, 0.1, 0.3]\n",
        "}\n",
        "\n",
        "# Instantiate XGBoost with RandomizedSearchCV for tuning\n",
        "xgb_clf_tuned = RandomizedSearchCV(xgb.XGBClassifier(objective='binary:logistic', eval_metric='logloss', use_label_encoder=True),\n",
        "                                   param_distributions=param_grid, n_iter=20, cv=3, scoring='roc_auc', verbose=1, random_state=42)\n",
        "\n",
        "# Fit the model\n",
        "xgb_clf_tuned.fit(X_train, y_train)\n",
        "\n",
        "# Get the best hyperparameters\n",
        "print(f\"Best Parameters: {xgb_clf_tuned.best_params_}\")\n",
        "\n",
        "# Make predictions using the best model\n",
        "best_xgb_model = xgb_clf_tuned.best_estimator_\n",
        "y_prob_tuned = best_xgb_model.predict_proba(X_test)[:, 1]\n",
        "y_pred_tuned = best_xgb_model.predict(X_test)\n",
        "\n",
        "# Evaluate performance\n",
        "print(classification_report(y_test, y_pred_tuned))\n",
        "\n",
        "# AUC-ROC Score\n",
        "roc_auc_tuned = roc_auc_score(y_test, y_prob_tuned)\n",
        "print(f\"AUC-ROC Score (Tuned Model): {roc_auc_tuned}\")\n"
      ]
    },
    {
      "cell_type": "code",
      "execution_count": null,
      "metadata": {
        "colab": {
          "base_uri": "https://localhost:8080/"
        },
        "id": "pVlC4FF1JiBo",
        "outputId": "18d1f657-9269-4f60-ffcc-a6ba1d40c7fa"
      },
      "outputs": [
        {
          "output_type": "stream",
          "name": "stdout",
          "text": [
            "              precision    recall  f1-score   support\n",
            "\n",
            "           0       0.78      0.19      0.30    156705\n",
            "           1       0.54      0.95      0.69    158588\n",
            "\n",
            "    accuracy                           0.57    315293\n",
            "   macro avg       0.66      0.57      0.49    315293\n",
            "weighted avg       0.66      0.57      0.50    315293\n",
            "\n"
          ]
        }
      ],
      "source": [
        "# Set a custom threshold for class prediction (e.g., threshold = 0.3)\n",
        "threshold = 0.3\n",
        "y_pred_adjusted = (y_prob_tuned >= threshold).astype(int)\n",
        "\n",
        "# Evaluate the adjusted predictions\n",
        "print(classification_report(y_test, y_pred_adjusted))"
      ]
    },
    {
      "cell_type": "code",
      "execution_count": null,
      "metadata": {
        "id": "Bhdbv6-ER3Sz"
      },
      "outputs": [],
      "source": [
        "from sklearn.model_selection import cross_val_score\n",
        "\n",
        "# Perform cross-validation (using AUC-ROC as the scoring metric)\n",
        "cv_scores = cross_val_score(best_xgb_model, X, y, cv=5, scoring='roc_auc')\n",
        "\n",
        "print(f\"Cross-Validated AUC-ROC Scores: {cv_scores}\")\n",
        "print(f\"Mean AUC-ROC Score: {cv_scores.mean()}\")\n"
      ]
    },
    {
      "cell_type": "markdown",
      "source": [
        "# Preparing data for prediction\n"
      ],
      "metadata": {
        "id": "WQBr7juWw0o7"
      }
    },
    {
      "cell_type": "code",
      "source": [
        "# Load TZA dataset and preprocess it\n",
        "\n",
        "Data_tza = pd.read_csv(\"/content/drive/MyDrive/Colab Notebooks/OSM_Changeset/Dataset_Tanzania.csv\")\n",
        "\n",
        "\n",
        "avg_segment_node_distance(Data_tza)\n",
        "Data_tza['true_label'] = Data_tza.apply(assign_true_label, axis=1)\n",
        "Data_tza['std_node_density'] = Data_tza['node_density'].std()\n",
        "Data_tza['std_node_distance'] = Data_tza['avg_segment_node_distance'].std()\n",
        "Data_tza['segment_length'] = round((Data_tza['road_length'])/1000,2)\n",
        "\n",
        "# Reshape X to be a 2D array\n",
        "X_to_predict = Data_tza.iloc[:, [-10,  -1]]\n",
        "y_to_predict = Data_tza.iloc[:, -3]\n",
        "\n",
        "print(X_to_predict.columns)  # Print the columns of the DataFrame X\n",
        "# use one-hot encoding on the y variable\n",
        "\n",
        "\n",
        "# Encoding the Dependent Variable (Classification)\n",
        "le = LabelEncoder()\n",
        "y_to_predict = le.fit_transform(y_to_predict)\n",
        "\n",
        "imputer = SimpleImputer(missing_values=np.nan, strategy='most_frequent')\n",
        "imputer.fit(X_to_predict)  # Fit on the 2D array X\n",
        "X = imputer.transform(X)    # Transform the data"
      ],
      "metadata": {
        "colab": {
          "base_uri": "https://localhost:8080/"
        },
        "id": "jMEoABDTw7cJ",
        "outputId": "d7852214-e9c4-4e41-a747-1d67748077dd"
      },
      "execution_count": null,
      "outputs": [
        {
          "output_type": "stream",
          "name": "stdout",
          "text": [
            "Index(['node_density', 'std_node_distance'], dtype='object')\n"
          ]
        },
        {
          "output_type": "stream",
          "name": "stderr",
          "text": [
            "/usr/local/lib/python3.10/dist-packages/sklearn/base.py:493: UserWarning: X does not have valid feature names, but SimpleImputer was fitted with feature names\n",
            "  warnings.warn(\n"
          ]
        }
      ]
    },
    {
      "cell_type": "code",
      "source": [
        "# Select only the features used for training from Data_tza\n",
        "# X_to_predict = Data_tza[['node_density', 'std_node_distance']]\n",
        "\n",
        "# Impute missing values if necessary (using the same imputer used during training)\n",
        "# X_to_predict = imputer.transform(X_to_predict)\n",
        "\n",
        "# Make the prediction\n",
        "xgb_predictions = xgb_clf.predict(X_to_predict)\n",
        "\n",
        "print(classification_report(y_to_predict, xgb_predictions, zero_division=\"warn\"))"
      ],
      "metadata": {
        "colab": {
          "base_uri": "https://localhost:8080/"
        },
        "id": "2Hy-G_mZx7kI",
        "outputId": "5d0a7167-0ce6-4ea1-848f-0292f415c282"
      },
      "execution_count": null,
      "outputs": [
        {
          "output_type": "stream",
          "name": "stderr",
          "text": [
            "/usr/local/lib/python3.10/dist-packages/sklearn/metrics/_classification.py:1531: UndefinedMetricWarning: Precision is ill-defined and being set to 0.0 in labels with no predicted samples. Use `zero_division` parameter to control this behavior.\n",
            "  _warn_prf(average, modifier, f\"{metric.capitalize()} is\", len(result))\n",
            "/usr/local/lib/python3.10/dist-packages/sklearn/metrics/_classification.py:1531: UndefinedMetricWarning: Precision is ill-defined and being set to 0.0 in labels with no predicted samples. Use `zero_division` parameter to control this behavior.\n",
            "  _warn_prf(average, modifier, f\"{metric.capitalize()} is\", len(result))\n"
          ]
        },
        {
          "output_type": "stream",
          "name": "stdout",
          "text": [
            "              precision    recall  f1-score   support\n",
            "\n",
            "           0       0.43      1.00      0.61    571201\n",
            "           1       0.00      0.00      0.00    745540\n",
            "\n",
            "    accuracy                           0.43   1316741\n",
            "   macro avg       0.22      0.50      0.30   1316741\n",
            "weighted avg       0.19      0.43      0.26   1316741\n",
            "\n"
          ]
        },
        {
          "output_type": "stream",
          "name": "stderr",
          "text": [
            "/usr/local/lib/python3.10/dist-packages/sklearn/metrics/_classification.py:1531: UndefinedMetricWarning: Precision is ill-defined and being set to 0.0 in labels with no predicted samples. Use `zero_division` parameter to control this behavior.\n",
            "  _warn_prf(average, modifier, f\"{metric.capitalize()} is\", len(result))\n"
          ]
        }
      ]
    },
    {
      "cell_type": "code",
      "source": [
        "\n",
        "# Select only the features used for training from Data_tza\n",
        "# X_to_predict = Data_tza[['node_density', 'std_node_distance']]\n",
        "\n",
        "\n",
        "\n",
        "# Feature Scaling - Generally recommended for Logistic Regression\n",
        "from sklearn.preprocessing import StandardScaler\n",
        "sc = StandardScaler(with_mean=False)\n",
        "tza = sc.fit_transform(X_to_predict)"
      ],
      "metadata": {
        "id": "Mtre4FuO6asu"
      },
      "execution_count": null,
      "outputs": []
    },
    {
      "cell_type": "code",
      "source": [
        "\n",
        "# Make the prediction\n",
        "predictions = classifier.predict(X_to_predict)\n",
        "\n",
        "print(predictions)\n",
        "print(classification_report(y_to_predict, predictions))"
      ],
      "metadata": {
        "colab": {
          "base_uri": "https://localhost:8080/"
        },
        "id": "qwA346oeyAKV",
        "outputId": "f761db5b-c2dd-44ad-b83f-1011684748a0"
      },
      "execution_count": null,
      "outputs": [
        {
          "output_type": "stream",
          "name": "stderr",
          "text": [
            "/usr/local/lib/python3.10/dist-packages/sklearn/base.py:486: UserWarning: X has feature names, but LogisticRegression was fitted without feature names\n",
            "  warnings.warn(\n"
          ]
        },
        {
          "output_type": "stream",
          "name": "stdout",
          "text": [
            "[1 1 1 ... 1 1 1]\n",
            "              precision    recall  f1-score   support\n",
            "\n",
            "           0       0.47      0.02      0.04    571201\n",
            "           1       0.57      0.98      0.72    745540\n",
            "\n",
            "    accuracy                           0.56   1316741\n",
            "   macro avg       0.52      0.50      0.38   1316741\n",
            "weighted avg       0.53      0.56      0.43   1316741\n",
            "\n"
          ]
        }
      ]
    },
    {
      "cell_type": "code",
      "source": [
        "# Predictions for Randorm Forest\n",
        "# Select only the features used for training from Data_tza\n",
        "X_to_predict = Data_tza[['node_density', 'std_node_distance']]\n",
        "\n",
        "\n",
        "# Make the prediction\n",
        "RF_predictions = RF_classifier.predict(X_to_predict)\n",
        "\n",
        "# Assuming y and X_to_predict are aligned now\n",
        "print(RF_predictions)\n",
        "print(classification_report(y_to_predict, RF_predictions))"
      ],
      "metadata": {
        "colab": {
          "base_uri": "https://localhost:8080/"
        },
        "id": "A19WTZN1dsIh",
        "outputId": "dd670975-7f7f-48c6-80d1-c6de602c6a20"
      },
      "execution_count": null,
      "outputs": [
        {
          "output_type": "stream",
          "name": "stderr",
          "text": [
            "/usr/local/lib/python3.10/dist-packages/sklearn/base.py:486: UserWarning: X has feature names, but RandomForestClassifier was fitted without feature names\n",
            "  warnings.warn(\n"
          ]
        },
        {
          "output_type": "stream",
          "name": "stdout",
          "text": [
            "[0 0 0 ... 0 0 0]\n",
            "              precision    recall  f1-score   support\n",
            "\n",
            "           0       0.44      0.77      0.56    571201\n",
            "           1       0.59      0.25      0.35    745540\n",
            "\n",
            "    accuracy                           0.48   1316741\n",
            "   macro avg       0.51      0.51      0.46   1316741\n",
            "weighted avg       0.52      0.48      0.44   1316741\n",
            "\n"
          ]
        }
      ]
    },
    {
      "cell_type": "markdown",
      "source": [
        "# Predicting Ghana"
      ],
      "metadata": {
        "id": "T1XWD6MBBicF"
      }
    },
    {
      "cell_type": "code",
      "source": [
        "\n",
        "def avg_segment_node_distance1(gdf):\n",
        "    \"\"\"\n",
        "    Calculate the average segment length per node for a GeoDataFrame of road segments.\n",
        "\n",
        "    Parameters:\n",
        "\n",
        "    - gdf: GeoDataFrame\n",
        "\n",
        "        GeoDataFrame containing road segment geometries.\n",
        "\n",
        "    Returns:\n",
        "\n",
        "    - float\n",
        "\n",
        "        Average segment length per node.\n",
        "    \"\"\"\n",
        "    # Calculate the length of each road segment\n",
        "    # gdf['segment_length'] = round((gdf['road_length'])/1000,2)\n",
        "\n",
        "    # Calculate the number of nodes for each road segment\n",
        "    gdf['num_nodes'] = gdf['num_nodes']\n",
        "    # Calculate the average segment length per node\n",
        "    gdf['avg_segment_node_distance'] = gdf['segment_length'] / (gdf['num_nodes'] - 1)\n",
        "\n",
        "    # Calculate the overall average\n",
        "    overall_average = gdf['avg_segment_node_distance'].mean()\n",
        "\n",
        "    return overall_average"
      ],
      "metadata": {
        "id": "rRbUdfiGVKQ9"
      },
      "execution_count": null,
      "outputs": []
    },
    {
      "cell_type": "code",
      "source": [
        "# Load tiger dataset and preprocess it\n",
        "\n",
        "Data_tiger = pd.read_csv(\"/content/drive/MyDrive/Colab Notebooks/OSM_Changeset/Tiger_Alabama.csv\")\n",
        "\n",
        "# Data_tiger['segment_length'] = round((Data_tiger['road_length'])/1000,2)\n",
        "\n",
        "avg_segment_node_distance1(Data_tiger)\n",
        "Data_tiger['true_label'] = 1 #Data_tiger.apply(assign_true_label, axis=1)\n",
        "Data_tiger['std_node_density'] = Data_tiger['node_density'].std()\n",
        "Data_tiger['std_node_distance'] = Data_tiger['avg_segment_node_distance'].std()\n",
        "Data_tiger['segment_length'] = round((Data_tiger['segment_length'])/1000,2)\n",
        "\n",
        "# Reshape X to be a 2D array\n",
        "X_to_predict_t = Data_tiger.iloc[:, [-5,  -1]]\n",
        "y_to_predict_t = Data_tiger.iloc[:, -3]\n",
        "\n",
        "print(X_to_predict.columns)  # Print the columns of the DataFrame X\n",
        "# use one-hot encoding on the y variable\n",
        "\n",
        "\n",
        "# Encoding the Dependent Variable (Classification)\n",
        "le = LabelEncoder()\n",
        "y_to_predict_t = le.fit_transform(y_to_predict_t)\n",
        "\n",
        "imputer = SimpleImputer(missing_values=np.nan, strategy='most_frequent')\n",
        "imputer.fit(X_to_predict_t)  # Fit on the 2D array X\n",
        "X = imputer.transform(X_to_predict_t)    # Transform the data"
      ],
      "metadata": {
        "colab": {
          "base_uri": "https://localhost:8080/"
        },
        "outputId": "1d7c5093-2aa9-4308-9dab-7cab22538a5b",
        "id": "Zi3N9kW_e4bI"
      },
      "execution_count": null,
      "outputs": [
        {
          "output_type": "stream",
          "name": "stdout",
          "text": [
            "Index(['node_density', 'std_node_distance'], dtype='object')\n"
          ]
        }
      ]
    },
    {
      "cell_type": "code",
      "source": [
        "# Make the prediction with XGB for Tiger\n",
        "xgb_predictions_t = xgb_clf.predict(X_to_predict_t)\n",
        "\n",
        "print(classification_report(y_to_predict_t, xgb_predictions_t, zero_division=\"warn\"))"
      ],
      "metadata": {
        "colab": {
          "base_uri": "https://localhost:8080/"
        },
        "id": "QkqieV51UvTp",
        "outputId": "0777a068-99e3-44aa-b9c0-abc6ef036cce"
      },
      "execution_count": null,
      "outputs": [
        {
          "output_type": "stream",
          "name": "stdout",
          "text": [
            "              precision    recall  f1-score   support\n",
            "\n",
            "           0       1.00      1.00      1.00      2681\n",
            "\n",
            "    accuracy                           1.00      2681\n",
            "   macro avg       1.00      1.00      1.00      2681\n",
            "weighted avg       1.00      1.00      1.00      2681\n",
            "\n"
          ]
        }
      ]
    },
    {
      "cell_type": "code",
      "source": [
        "from sklearn.metrics import confusion_matrix\n",
        "cm = confusion_matrix(y_to_predict_t, xgb_predictions_t)\n",
        "print(cm)\n"
      ],
      "metadata": {
        "colab": {
          "base_uri": "https://localhost:8080/"
        },
        "id": "f1dsrwHtaj8l",
        "outputId": "18aad784-e4db-45df-de91-4d7476dbdf2e"
      },
      "execution_count": null,
      "outputs": [
        {
          "output_type": "stream",
          "name": "stdout",
          "text": [
            "[[2681]]\n"
          ]
        },
        {
          "output_type": "stream",
          "name": "stderr",
          "text": [
            "/usr/local/lib/python3.10/dist-packages/sklearn/metrics/_classification.py:409: UserWarning: A single label was found in 'y_true' and 'y_pred'. For the confusion matrix to have the correct shape, use the 'labels' parameter to pass all known labels.\n",
            "  warnings.warn(\n"
          ]
        }
      ]
    },
    {
      "cell_type": "code",
      "source": [
        "# Load TomTom dataset and preprocess it\n",
        "\n",
        "Data_tomtom = pd.read_csv(\"/content/drive/MyDrive/Colab Notebooks/OSM_Changeset/TomTom_Berlin.csv\")\n",
        "\n",
        "# Data_tiger['segment_length'] = round((Data_tiger['road_length'])/1000,2)\n",
        "\n",
        "avg_segment_node_distance1(Data_tomtom)\n",
        "Data_tomtom['true_label'] = 1 #Data_tiger.apply(assign_true_label, axis=1)\n",
        "Data_tomtom['std_node_density'] = Data_tomtom['node_density'].std()\n",
        "Data_tomtom['std_node_distance'] = Data_tomtom['avg_segment_node_distance'].std()\n",
        "Data_tomtom['segment_length'] = round((Data_tomtom['segment_length'])/1000,2)\n",
        "\n",
        "# Reshape X to be a 2D array\n",
        "X_to_predict_T = Data_tomtom.iloc[:, [-5,  -1]]\n",
        "y_to_predict_T = Data_tomtom.iloc[:, -3]\n",
        "\n",
        "print(X_to_predict_T.columns)  # Print the columns of the DataFrame X\n",
        "# use one-hot encoding on the y variable\n",
        "\n",
        "\n",
        "# Encoding the Dependent Variable (Classification)\n",
        "le = LabelEncoder()\n",
        "y_to_predict_T = le.fit_transform(y_to_predict_T)\n",
        "\n",
        "imputer = SimpleImputer(missing_values=np.nan, strategy='most_frequent')\n",
        "imputer.fit(X_to_predict_T)  # Fit on the 2D array X\n",
        "X = imputer.transform(X_to_predict_T)    # Transform the data"
      ],
      "metadata": {
        "colab": {
          "base_uri": "https://localhost:8080/"
        },
        "id": "t1IHHu_LY-hw",
        "outputId": "e3a6b370-5481-48b2-9326-1702ca397971"
      },
      "execution_count": null,
      "outputs": [
        {
          "output_type": "stream",
          "name": "stdout",
          "text": [
            "Index(['node_density', 'std_node_distance'], dtype='object')\n"
          ]
        }
      ]
    },
    {
      "cell_type": "code",
      "source": [
        "# Make the prediction with XGB for TomTom\n",
        "xgb_predictions_T = xgb_clf.predict(X_to_predict_t)\n",
        "\n",
        "print(classification_report(y_to_predict_t, xgb_predictions_T, zero_division=\"warn\"))"
      ],
      "metadata": {
        "colab": {
          "base_uri": "https://localhost:8080/"
        },
        "id": "mRodipCAZ12T",
        "outputId": "ea3b47c9-99b6-49a6-8889-6126f8d942ee"
      },
      "execution_count": null,
      "outputs": [
        {
          "output_type": "stream",
          "name": "stdout",
          "text": [
            "              precision    recall  f1-score   support\n",
            "\n",
            "           0       1.00      1.00      1.00      2681\n",
            "\n",
            "    accuracy                           1.00      2681\n",
            "   macro avg       1.00      1.00      1.00      2681\n",
            "weighted avg       1.00      1.00      1.00      2681\n",
            "\n"
          ]
        }
      ]
    }
  ],
  "metadata": {
    "colab": {
      "provenance": []
    },
    "kernelspec": {
      "display_name": "Python 3",
      "name": "python3"
    },
    "language_info": {
      "name": "python"
    }
  },
  "nbformat": 4,
  "nbformat_minor": 0
}